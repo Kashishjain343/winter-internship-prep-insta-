{
 "cells": [
  {
   "cell_type": "markdown",
   "metadata": {
    "id": "fxZte1ZuP3yr"
   },
   "source": [
    "# Problem statement\n",
    "\n",
    "Create famous 'Frog leap' puzzle game. Try completing the game before starting to get an idea about its working.\n",
    "[Demonstration](https://www.neok12.com/games/leap-froggies/leap-froggies.htm).\n",
    "\n",
    "\n",
    "### Rules ###\n",
    "1. The left set of frogs can only move right, the right set of frogs can only move left.\n",
    "2. Frogs can move forward one space, or move two spaces by jumping over another frog from opposite side.\n",
    "3. The puzzle is solved when the two sets of frogs have switched positions.\n",
    "\n",
    "\n",
    "## Steps to solve the problem:\n",
    "### Step1:-\n",
    "- Display green and brown frogs on the left and right sides initially.\n",
    "\n",
    "Initial Display :-  \n",
    "```\n",
    "[ 0 ,  1 ,  2 ,  3 ,  4 ,  5 ,  6 ]\n",
    "['G', 'G', 'G', '-', 'B', 'B', 'B']\n",
    "```\n",
    "<br>\n",
    "Here 'G' represents Green frogs on the left side and 'B' represents brown frogs on the right side. The '-' defines the position of empty leaf.\n",
    "(You can change display according to your imagination or convinience)\n",
    "\n",
    "### Step2:-\n",
    "Accept positions of the frog that you want to move.<br>\n",
    "Example: If we enter position 2 then the game will look like this:-\n",
    "```\n",
    "[ 0 ,  1 ,  2 ,  3 ,  4 ,  5 ,  6 ]\n",
    "['G', 'G', '-', 'G', 'B', 'B', 'B']\n",
    "```\n",
    "\n",
    "### Step3:- ###\n",
    "Define Invalid moves and add conditional 'if' statements accordingly\n",
    "#### Rules\n",
    "1. Entered position should be between 0 to 6. Or a character 'q' to quit the game.\n",
    "2. Entered position cannot be the position of empty leaf.\n",
    "3. If the selected frog position cannot perform the contraints given in rule 2 then the move is invalid.\n",
    "\n",
    "### Step4:-\n",
    "Make the appropriate move by changing the game display."
   ]
  },
  {
   "cell_type": "markdown",
   "metadata": {
    "id": "-viYJbAFQXcJ"
   },
   "source": [
    "## Step 1\n",
    "First create a list `positions` which contains the characters 'G','B' and '-' in the same sequence as given in the initial display state."
   ]
  },
  {
   "cell_type": "code",
   "execution_count": 5,
   "metadata": {
    "colab": {
     "base_uri": "https://localhost:8080/"
    },
    "executionInfo": {
     "elapsed": 414,
     "status": "ok",
     "timestamp": 1702476017349,
     "user": {
      "displayName": "Rushikesh Konapure",
      "userId": "14876714731917346122"
     },
     "user_tz": -330
    },
    "id": "fSvLBrjwP0sr",
    "outputId": "07447818-0699-46b3-85c4-03076be808cd"
   },
   "outputs": [
    {
     "name": "stdout",
     "output_type": "stream",
     "text": [
      "['G', 'G', 'G', '-', 'B', 'B', 'B']\n"
     ]
    }
   ],
   "source": [
    "positions = ['G', 'G', 'G', '-', 'B', 'B', 'B']\n",
    "print(positions)\n",
    "\n"
   ]
  },
  {
   "cell_type": "markdown",
   "metadata": {
    "id": "unr1AJLSQj_4"
   },
   "source": [
    "Now print this string ```[ 0 ,  1 ,  2 ,  3 ,  4 ,  5 ,  6 ]``` and after that print the list `positions`"
   ]
  },
  {
   "cell_type": "code",
   "execution_count": 4,
   "metadata": {
    "colab": {
     "base_uri": "https://localhost:8080/"
    },
    "executionInfo": {
     "elapsed": 416,
     "status": "ok",
     "timestamp": 1702476243071,
     "user": {
      "displayName": "Rushikesh Konapure",
      "userId": "14876714731917346122"
     },
     "user_tz": -330
    },
    "id": "qqKLcfEmQgiZ",
    "outputId": "59f05f14-4019-4cdb-a968-23bce4de057f"
   },
   "outputs": [
    {
     "name": "stdout",
     "output_type": "stream",
     "text": [
      "[ 0 1 2 3 4 5 6 ]\n",
      "['G', 'G', 'G', '-', 'B', 'B', 'B']\n"
     ]
    }
   ],
   "source": [
    "print(\"[\", end=\" \")\n",
    "for i in range(len(positions)):\n",
    "    print(i, end=\" \")\n",
    "print(\"]\")\n",
    "\n",
    "# Printing the list positions\n",
    "print(positions)\n",
    "\n"
   ]
  },
  {
   "cell_type": "markdown",
   "metadata": {
    "id": "DuEVsgtjQqXV"
   },
   "source": [
    "Take position input from user and write a message as `\"Press q to quit else \\nEnter position of piece:\"`."
   ]
  },
  {
   "cell_type": "code",
   "execution_count": null,
   "metadata": {
    "colab": {
     "base_uri": "https://localhost:8080/"
    },
    "executionInfo": {
     "elapsed": 5840,
     "status": "ok",
     "timestamp": 1702476498197,
     "user": {
      "displayName": "Rushikesh Konapure",
      "userId": "14876714731917346122"
     },
     "user_tz": -330
    },
    "id": "nPz65EKXQnDR",
    "outputId": "2f617206-9d5d-48d8-ffb5-52e33d793717"
   },
   "outputs": [],
   "source": [
    "pos = input(\"Press q to quit \\n Enter position of piece: \")\n",
    "\n",
    "\n"
   ]
  },
  {
   "cell_type": "markdown",
   "metadata": {
    "id": "ejy_x_eTRJmT"
   },
   "source": [
    "Now the taken input is in string format. So first check if the input is `'q'` character. If input is `'q'` then the person is quiting the game so print `'You Lose'`."
   ]
  },
  {
   "cell_type": "code",
   "execution_count": 23,
   "metadata": {
    "colab": {
     "base_uri": "https://localhost:8080/"
    },
    "executionInfo": {
     "elapsed": 8,
     "status": "ok",
     "timestamp": 1702476504999,
     "user": {
      "displayName": "Rushikesh Konapure",
      "userId": "14876714731917346122"
     },
     "user_tz": -330
    },
    "id": "1OrsC7P9QxO6",
    "outputId": "41411b03-7db2-4270-de5f-9ef3033943c3"
   },
   "outputs": [
    {
     "name": "stdout",
     "output_type": "stream",
     "text": [
      "You Lose\n"
     ]
    }
   ],
   "source": [
    "if pos == 'q':\n",
    "  print(\"You Lose\")"
   ]
  },
  {
   "cell_type": "markdown",
   "metadata": {
    "id": "yZJeDTGlRSMe"
   },
   "source": [
    "Next if input character is not `'q'` then it has to be some integer. so convert input to integer format."
   ]
  },
  {
   "cell_type": "code",
   "execution_count": 26,
   "metadata": {
    "colab": {
     "base_uri": "https://localhost:8080/"
    },
    "executionInfo": {
     "elapsed": 4072,
     "status": "ok",
     "timestamp": 1702476643077,
     "user": {
      "displayName": "Rushikesh Konapure",
      "userId": "14876714731917346122"
     },
     "user_tz": -330
    },
    "id": "PWZj_Js6RP2G",
    "outputId": "8fe3e5b5-a3eb-43a2-9482-1298237e9478"
   },
   "outputs": [
    {
     "name": "stdout",
     "output_type": "stream",
     "text": [
      "4\n"
     ]
    }
   ],
   "source": [
    "pos = int(input())"
   ]
  },
  {
   "cell_type": "markdown",
   "metadata": {
    "id": "SyCzN-cYRXZa"
   },
   "source": [
    "## Step 2\n",
    "Now we have to check validity of the selected positions or move.<br>\n",
    "If the entered number isn't between 0 and 6, then print 'Invalid move'."
   ]
  },
  {
   "cell_type": "code",
   "execution_count": 2,
   "metadata": {
    "id": "8_edLqe2RU8S"
   },
   "outputs": [
    {
     "name": "stdout",
     "output_type": "stream",
     "text": [
      "Enter a number between 0 and 6: 2\n",
      "Valid move\n"
     ]
    }
   ],
   "source": [
    "entered_number = int(input(\"Enter a number between 0 and 6: \"))\n",
    "\n",
    "if entered_number < 0 or entered_number > 6:\n",
    "    print('Invalid move')\n",
    "else:\n",
    "    print('Valid move')\n",
    "    \n",
    "    "
   ]
  },
  {
   "cell_type": "markdown",
   "metadata": {
    "id": "Va03g0l5Rlkx"
   },
   "source": [
    "A frog should be present on the selected position to make a move. If leaf is selected then it doesn't make sense. Therefore, if entered postition is same as the postition of empty leaf then the move is invalid and print `Invalid Move`"
   ]
  },
  {
   "cell_type": "code",
   "execution_count": 3,
   "metadata": {
    "id": "uM2-D1xGRiH4"
   },
   "outputs": [
    {
     "name": "stdout",
     "output_type": "stream",
     "text": [
      "Enter a number between 0 and 6: 1\n",
      "Valid move\n"
     ]
    }
   ],
   "source": [
    "frog_position = 3  # Assuming frog is initially at position 3\n",
    "leaf_position = 0  # Assuming leaf is at position 0\n",
    "\n",
    "entered_number = int(input(\"Enter a number between 0 and 6: \"))\n",
    "\n",
    "if entered_number == leaf_position:\n",
    "    print('Invalid move: Leaf position selected.')\n",
    "elif entered_number < 0 or entered_number > 6:\n",
    "    print('Invalid move: Position out of range.')\n",
    "else:\n",
    "    print('Valid move')\n",
    "    "
   ]
  },
  {
   "cell_type": "markdown",
   "metadata": {
    "id": "cp5q2ahQTnwI"
   },
   "source": [
    "Initialize a variable named `pos2` at value 0, to store the index of empty leaf, so that we can use it later."
   ]
  },
  {
   "cell_type": "code",
   "execution_count": 4,
   "metadata": {
    "id": "1SkBYDnaTpiV"
   },
   "outputs": [
    {
     "name": "stdout",
     "output_type": "stream",
     "text": [
      "Index of the empty leaf: 3\n"
     ]
    }
   ],
   "source": [
    "positions = [1, 2, 3, 0, 4, 5, 6]                                  # Example list of positions, 0 represents the empty leaf\n",
    "\n",
    "pos2 = positions.index(0)                                           # Finding the index of the empty leaf (value 0)\n",
    "\n",
    "print(\"Index of the empty leaf:\", pos2)\n"
   ]
  },
  {
   "cell_type": "markdown",
   "metadata": {
    "id": "V9UFD623R3Oa"
   },
   "source": [
    "```   \n",
    "    Check if the selected frog is 'G':\n",
    "  \n",
    "        (Inside if when it's 'G'. As 'G' is selected frog can move to right only.)\n",
    "        \n",
    "        ❗condition 1\n",
    "\n",
    "        If **selected_position + 1** is less than or equal to 6 and **curent_position + 1** contains '-'\n",
    "        then it's a valid move and store that postion in `pos2`.\n",
    "        \n",
    "        ❗condition2\n",
    "\n",
    "        Else if **selected_position + 2** is less than or equal to 6 and if **current_position + 2**\n",
    "        contains '-' and if **selected_position + 1** contains 'B' then it's a valid move  and store that postion in `pos2`.\n",
    "        \n",
    "        ❗condition3:\n",
    "\n",
    "        Else remainig all are invalid, so print `Invalid Move`\n",
    "      \n",
    "```"
   ]
  },
  {
   "cell_type": "code",
   "execution_count": 5,
   "metadata": {
    "id": "IDHxpibURriq"
   },
   "outputs": [
    {
     "name": "stdout",
     "output_type": "stream",
     "text": [
      "Valid move. New position: 5\n"
     ]
    }
   ],
   "source": [
    "positions = ['-', '-', '-', 'G', 'B', '-', '-']  # Example list of positions, 'G' represents the frog, 'B' represents the leaf\n",
    "\n",
    "selected_position = 3  # Assuming the selected position is index 3 (where 'G' is)\n",
    "\n",
    "if positions[selected_position] == 'G':\n",
    "    if selected_position + 1 <= 6 and positions[selected_position + 1] == '-':\n",
    "        pos2 = selected_position + 1\n",
    "        print('Valid move. New position:', pos2)\n",
    "    elif selected_position + 2 <= 6 and positions[selected_position + 2] == '-' and positions[selected_position + 1] == 'B':\n",
    "        pos2 = selected_position + 2\n",
    "        print('Valid move. New position:', pos2)\n",
    "    else:\n",
    "        print('Invalid Move')\n",
    "else:\n",
    "    print('Selected position does not contain a frog')\n",
    "    "
   ]
  },
  {
   "cell_type": "markdown",
   "metadata": {
    "id": "DyQX5nUsTZPF"
   },
   "source": [
    "```\n",
    "    Check if the selected frog is 'B':\n",
    "    \n",
    "        (Inside if when it's 'B'. As 'B' is selected frog can move to left only.)\n",
    "        \n",
    "        ❗condition1:\n",
    "\n",
    "        If **selected_position - 1** is more than or equal to 0 and **curent_position - 1** contains '-' then\n",
    "        it's a valid move and and store that postion in `pos2`.\n",
    "        \n",
    "        ❗condition2:\n",
    "\n",
    "        Else if **selected_position - 2** is more than or equal to 0 and if **current_position - 2** contains '-'\n",
    "        and if **selected_position - 1** contains 'G' then it's a valid move and and store that postion in `pos2`.\n",
    "\n",
    "        ❗condition3:\n",
    "        \n",
    "        Else remainig all are invalid,, so print `Invalid Move`.\n",
    "        \n",
    "```"
   ]
  },
  {
   "cell_type": "code",
   "execution_count": 6,
   "metadata": {
    "id": "cQ2G3ZO_TWU5"
   },
   "outputs": [
    {
     "name": "stdout",
     "output_type": "stream",
     "text": [
      "Valid move. New position: 2\n"
     ]
    }
   ],
   "source": [
    "positions = ['-', '-', '-', 'B', 'G', '-', '-']  # Example list of positions, 'B' represents the frog, 'G' represents the leaf\n",
    "\n",
    "selected_position = 3  # Assuming the selected position is index 3 (where 'B' is)\n",
    "\n",
    "if positions[selected_position] == 'B':\n",
    "    if selected_position - 1 >= 0 and positions[selected_position - 1] == '-':\n",
    "        pos2 = selected_position - 1\n",
    "        print('Valid move. New position:', pos2)\n",
    "    elif selected_position - 2 >= 0 and positions[selected_position - 2] == '-' and positions[selected_position - 1] == 'G':\n",
    "        pos2 = selected_position - 2\n",
    "        print('Valid move. New position:', pos2)\n",
    "    else:\n",
    "        print('Invalid Move')\n",
    "else:\n",
    "    print('Selected position does not contain a frog')\n",
    "    \n"
   ]
  },
  {
   "cell_type": "markdown",
   "metadata": {
    "id": "Vads2oztUd4g"
   },
   "source": [
    "Swap the element at selected positions and calculated position2 in the list.<br> So basically we are moving the frog to next valid position by swapping elelments of array."
   ]
  },
  {
   "cell_type": "code",
   "execution_count": null,
   "metadata": {
    "id": "jXOGtww7UeYQ"
   },
   "outputs": [],
   "source": [
    "positions = ['-', '-', '-', 'B', 'G', '-', '-']  # Example list of positions, 'B' represents the frog, 'G' represents the leaf\n",
    "\n",
    "selected_position = 3  # Assuming the selected position is index 3 (where 'B' is)\n",
    "\n",
    "if positions[selected_position] == 'B':\n",
    "    if selected_position - 1 >= 0 and positions[selected_position - 1] == '-':\n",
    "        pos2 = selected_position - 1\n",
    "    elif selected_position - 2 >= 0 and positions[selected_position - 2] == '-' and positions[selected_position - 1] == 'G':\n",
    "        pos2 = selected_position - 2\n",
    "    else:\n",
    "        pos2 = None  # Invalid move, pos2 is set to None\n",
    "\n",
    "    if pos2 is not None:\n",
    "        # Swap elements at selected_position and pos2\n",
    "        positions[selected_position], positions[pos2] = positions[pos2], positions[selected_position]\n",
    "        print('Frog moved. New positions:', positions)\n",
    "    else:\n",
    "        print('Invalid Move')\n",
    "else:\n",
    "    print('Selected position does not contain a frog')"
   ]
  },
  {
   "cell_type": "markdown",
   "metadata": {
    "id": "8qF4Q2HsUlZ4"
   },
   "source": [
    "Now print the display of the game again to see the change.<br>\n",
    "If we enter position 2 then the output will look like this:-\n",
    "```\n",
    "[ 0 ,  1 ,  2 ,  3 ,  4 ,  5 ,  6 ]\n",
    "['G', 'G', '-', 'G', 'B', 'B', 'B']\n",
    "```"
   ]
  },
  {
   "cell_type": "code",
   "execution_count": 7,
   "metadata": {
    "id": "0S3oNzG3UifK"
   },
   "outputs": [
    {
     "name": "stdout",
     "output_type": "stream",
     "text": [
      "[ 0 , 1 , 2 , 3 , 4 , 5 , 6 ]\n",
      "['G', 'G', '-', 'G', 'B', 'B', 'B']\n"
     ]
    }
   ],
   "source": [
    "positions = ['G', 'G', '-', 'G', 'B', 'B', 'B']  # Updated positions after the movement\n",
    "\n",
    "print(\"[ 0 , 1 , 2 , 3 , 4 , 5 , 6 ]\")\n",
    "print(positions)\n",
    "\n"
   ]
  },
  {
   "cell_type": "markdown",
   "metadata": {
    "id": "EILVGu48UsH-"
   },
   "source": [
    "Check for winning condition by comparing the elements of list. If player has won the game print `'You Win'`"
   ]
  },
  {
   "cell_type": "code",
   "execution_count": 8,
   "metadata": {
    "id": "GYkZdiA6Uote"
   },
   "outputs": [
    {
     "name": "stdout",
     "output_type": "stream",
     "text": [
      "Keep playing\n"
     ]
    }
   ],
   "source": [
    "positions = ['G', 'G', '-', 'G', 'B', 'B', 'B']  # Example list of positions after movements\n",
    "\n",
    "if all(position == 'B' for position in positions[:4]):\n",
    "    print('You Win')\n",
    "else:\n",
    "    print('Keep playing')\n",
    "    "
   ]
  },
  {
   "cell_type": "markdown",
   "metadata": {
    "id": "a2a0HHjiUyQ8"
   },
   "source": [
    "Now the game should keep running until the player quits, so place all conditional statements inside an infinite loop.<br>\n",
    "\n",
    "1. We have to `'break'` the loop if the player presses `'q'` and quits.\n",
    "\n",
    "2. If the move made by player is `'Invalid Move'` then we have to `'continue'` without executing remaining part of the selected iteration.\n",
    "\n",
    "3. If player wins the game we have to `break` the loop.\n",
    "\n",
    "\n",
    "```\n",
    "Infinite loop:\n",
    "    (inside loop)\n",
    "    1.Take input\n",
    "    2.Check all valid and invalid conditions of `pos`.\n",
    "    3.Make the appropriate move by calculating `pos2`.\n",
    "    4.Display game\n",
    "    4.Check winning condition\n",
    "```"
   ]
  },
  {
   "cell_type": "code",
   "execution_count": 9,
   "metadata": {
    "id": "BjpQuMCeUvrU"
   },
   "outputs": [
    {
     "name": "stdout",
     "output_type": "stream",
     "text": [
      "Enter a number between 0 and 6 (or 'q' to quit): q\n",
      "Quitting the game...\n"
     ]
    }
   ],
   "source": [
    "positions = ['G', 'G', '-', 'G', 'B', 'B', 'B']  # Initial positions\n",
    "\n",
    "while True:\n",
    "    selected_position = input(\"Enter a number between 0 and 6 (or 'q' to quit): \")\n",
    "    \n",
    "    if selected_position == 'q':\n",
    "        print('Quitting the game...')\n",
    "        break\n",
    "    \n",
    "    selected_position = int(selected_position)\n",
    "    \n",
    "    if selected_position < 0 or selected_position > 6:\n",
    "        print('Invalid move')\n",
    "        continue\n",
    "    \n",
    "    if positions[selected_position] == 'G':\n",
    "        if selected_position + 1 <= 6 and positions[selected_position + 1] == '-':\n",
    "            pos2 = selected_position + 1\n",
    "        elif selected_position + 2 <= 6 and positions[selected_position + 2] == '-' and positions[selected_position + 1] == 'B':\n",
    "            pos2 = selected_position + 2\n",
    "        else:\n",
    "            print('Invalid Move')\n",
    "            continue\n",
    "    elif positions[selected_position] == 'B':\n",
    "        if selected_position - 1 >= 0 and positions[selected_position - 1] == '-':\n",
    "            pos2 = selected_position - 1\n",
    "        elif selected_position - 2 >= 0 and positions[selected_position - 2] == '-' and positions[selected_position - 1] == 'G':\n",
    "            pos2 = selected_position - 2\n",
    "        else:\n",
    "            print('Invalid Move')\n",
    "            continue\n",
    "    else:\n",
    "        print('Selected position does not contain a frog')\n",
    "        continue\n",
    "\n",
    "    # Make the move by swapping elements\n",
    "    positions[selected_position], positions[pos2] = positions[pos2], positions[selected_position]\n",
    "\n",
    "    # Display game state\n",
    "    print(\"[ 0 , 1 , 2 , 3 , 4 , 5 , 6 ]\")\n",
    "    print(positions)\n",
    "    \n",
    "    # Check for winning condition\n",
    "    if all(position == 'B' for position in positions[:4]):\n",
    "        print('You Win!')\n",
    "        break\n"
   ]
  },
  {
   "cell_type": "code",
   "execution_count": null,
   "metadata": {
    "id": "4AxJB8JN1ou9"
   },
   "outputs": [],
   "source": []
  },
  {
   "cell_type": "markdown",
   "metadata": {
    "id": "puYr4wRdcBEA"
   },
   "source": [
    "# Scratchpad"
   ]
  },
  {
   "cell_type": "code",
   "execution_count": 1,
   "metadata": {
    "colab": {
     "base_uri": "https://localhost:8080/"
    },
    "executionInfo": {
     "elapsed": 681,
     "status": "ok",
     "timestamp": 1702475380748,
     "user": {
      "displayName": "Rushikesh Konapure",
      "userId": "14876714731917346122"
     },
     "user_tz": -330
    },
    "id": "_MZUfvZzcFHP",
    "outputId": "efa6135d-042f-4184-87d0-1120c488b1a2"
   },
   "outputs": [
    {
     "name": "stdout",
     "output_type": "stream",
     "text": [
      "Hello World\n"
     ]
    }
   ],
   "source": [
    "print(\"Hello World\")"
   ]
  },
  {
   "cell_type": "code",
   "execution_count": 2,
   "metadata": {
    "colab": {
     "base_uri": "https://localhost:8080/"
    },
    "executionInfo": {
     "elapsed": 611,
     "status": "ok",
     "timestamp": 1702475394423,
     "user": {
      "displayName": "Rushikesh Konapure",
      "userId": "14876714731917346122"
     },
     "user_tz": -330
    },
    "id": "BGVhlEujcMhC",
    "outputId": "5669847a-bff7-40cc-86da-69c1ddc7c27c"
   },
   "outputs": [
    {
     "data": {
      "text/plain": [
       "30"
      ]
     },
     "execution_count": 2,
     "metadata": {},
     "output_type": "execute_result"
    }
   ],
   "source": [
    "10 + 20"
   ]
  },
  {
   "cell_type": "code",
   "execution_count": 3,
   "metadata": {
    "executionInfo": {
     "elapsed": 5,
     "status": "ok",
     "timestamp": 1702475439787,
     "user": {
      "displayName": "Rushikesh Konapure",
      "userId": "14876714731917346122"
     },
     "user_tz": -330
    },
    "id": "5YMtDghEcSgY"
   },
   "outputs": [],
   "source": [
    "# if else, loop, list"
   ]
  },
  {
   "cell_type": "code",
   "execution_count": 10,
   "metadata": {
    "colab": {
     "base_uri": "https://localhost:8080/"
    },
    "executionInfo": {
     "elapsed": 3125,
     "status": "ok",
     "timestamp": 1702475656187,
     "user": {
      "displayName": "Rushikesh Konapure",
      "userId": "14876714731917346122"
     },
     "user_tz": -330
    },
    "id": "5vf7bflZcZj6",
    "outputId": "6489ddfa-b458-4da1-92f4-5a2cfaf6ef51"
   },
   "outputs": [
    {
     "name": "stdout",
     "output_type": "stream",
     "text": [
      "Enter marks: 15\n",
      "Fail\n"
     ]
    }
   ],
   "source": [
    "marks = int(input(\"Enter marks: \"))\n",
    "\n",
    "if marks >= 35:\n",
    "  print(\"Pass\")\n",
    "else:\n",
    "  print(\"Fail\")"
   ]
  },
  {
   "cell_type": "code",
   "execution_count": 8,
   "metadata": {
    "colab": {
     "base_uri": "https://localhost:8080/"
    },
    "executionInfo": {
     "elapsed": 730,
     "status": "ok",
     "timestamp": 1702475576905,
     "user": {
      "displayName": "Rushikesh Konapure",
      "userId": "14876714731917346122"
     },
     "user_tz": -330
    },
    "id": "FZHDlYDKcttf",
    "outputId": "579880e5-0484-47b0-87c2-dd9009ac10b1"
   },
   "outputs": [
    {
     "data": {
      "text/plain": [
       "str"
      ]
     },
     "execution_count": 8,
     "metadata": {},
     "output_type": "execute_result"
    }
   ],
   "source": [
    "type(\"100\")"
   ]
  },
  {
   "cell_type": "code",
   "execution_count": null,
   "metadata": {
    "id": "qlKiePJhcvry"
   },
   "outputs": [],
   "source": [
    "# for , while"
   ]
  },
  {
   "cell_type": "code",
   "execution_count": 11,
   "metadata": {
    "executionInfo": {
     "elapsed": 4,
     "status": "ok",
     "timestamp": 1702475734890,
     "user": {
      "displayName": "Rushikesh Konapure",
      "userId": "14876714731917346122"
     },
     "user_tz": -330
    },
    "id": "r9aIxDf0dfqT"
   },
   "outputs": [],
   "source": [
    "# list\n",
    "\n",
    "Grocery = ['Milk', 'bread', 'eggs', 100, 4.5, True, False]"
   ]
  },
  {
   "cell_type": "code",
   "execution_count": null,
   "metadata": {
    "id": "Fq4G3z0kdhsN"
   },
   "outputs": [],
   "source": []
  }
 ],
 "metadata": {
  "colab": {
   "provenance": []
  },
  "kernelspec": {
   "display_name": "Python 3 (ipykernel)",
   "language": "python",
   "name": "python3"
  },
  "language_info": {
   "codemirror_mode": {
    "name": "ipython",
    "version": 3
   },
   "file_extension": ".py",
   "mimetype": "text/x-python",
   "name": "python",
   "nbconvert_exporter": "python",
   "pygments_lexer": "ipython3",
   "version": "3.10.9"
  }
 },
 "nbformat": 4,
 "nbformat_minor": 1
}
